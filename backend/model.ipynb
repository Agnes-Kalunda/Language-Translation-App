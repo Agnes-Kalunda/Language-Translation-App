{
 "cells": [
  {
   "cell_type": "code",
   "execution_count": null,
   "metadata": {},
   "outputs": [],
   "source": [
    "\n",
    "import numpy as np\n",
    "import pandas as pd\n",
    "from tensorflow.keras.preprocessing.text import Tokenizer\n",
    "from tensorflow.keras.preprocessing.sequence import pad_sequences\n",
    "import tensorflow as tf\n",
    "\n",
    "#Reading CSV doc\n",
    "data =pd.read_csv('eng_-french.csv')\n",
    "data.tail()\n",
    "\n",
    "#extracting eng/french columns\n",
    "english_sentences = data['English words/sentences'].tolist()\n",
    "french_sentences = data['French words/sentences'].tolist()\n",
    "\n",
    "#English input data\n",
    "english_tokenizer = Tokenizer()\n",
    "english_tokenizer.fit_on_texts(english_sentences)\n",
    "english_sequences = english_tokenizer.texts_to_sequences(english_sentences)\n",
    "english_padded_sequences = pad_sequences(english_sequences, padding='post')\n",
    "\n",
    "#French input data\n",
    "french_tokenizer = Tokenizer()\n",
    "french_tokenizer.fit_on_texts(french_sentences)\n",
    "french_sequences = french_tokenizer.texts_to_sequences(french_sentences)\n",
    "french_padded_sequences = pad_sequences(french_sequences, padding='post')\n",
    "\n",
    "#model architecture\n",
    "model = tf.keras.Sequential([\n",
    "    tf.keras.layers.Embedding(input_dim=len(english_tokenizer.word_index) + 1, output_dim=256),\n",
    "    tf.keras.layers.LSTM(256),\n",
    "    tf.keras.layers.RepeatVector(max_french_sentence_length),\n",
    "    tf.keras.layers.LSTM(256, return_sequences=True),\n",
    "    tf.keras.layers.TimeDistributed(tf.keras.layers.Dense(len(french_tokenizer.word_index) + 1, activation='softmax'))\n",
    "])\n",
    "\n",
    "#compile model\n",
    "model.compile(optimizer='adam', loss='sparse_categorical_crossentropy')\n",
    "\n",
    "#training model\n",
    "model.fit(english_padded_sequences, french_padded_sequences, batch_size=64, epochs=10, validation_split=0.2)\n",
    "\n",
    "#evaluating model\n",
    "loss, accuracy = model.evaluate(english_padded_sequences, french_padded_sequences)\n",
    "\n",
    "\n",
    "\n",
    "\n"
   ]
  }
 ],
 "metadata": {
  "kernelspec": {
   "display_name": "Python 3",
   "language": "python",
   "name": "python3"
  },
  "language_info": {
   "codemirror_mode": {
    "name": "ipython",
    "version": 3
   },
   "file_extension": ".py",
   "mimetype": "text/x-python",
   "name": "python",
   "nbconvert_exporter": "python",
   "pygments_lexer": "ipython3",
   "version": "3.7.16 (default, Dec  7 2022, 01:12:19) \n[GCC 9.4.0]"
  },
  "orig_nbformat": 4,
  "vscode": {
   "interpreter": {
    "hash": "31f2aee4e71d21fbe5cf8b01ff0e069b9275f58929596ceb00d14d90e3e16cd6"
   }
  }
 },
 "nbformat": 4,
 "nbformat_minor": 2
}
